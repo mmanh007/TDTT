{
 "cells": [
  {
   "cell_type": "code",
   "execution_count": 8,
   "id": "6bbbd1d8-2e04-464b-941e-3d8f1867f0af",
   "metadata": {},
   "outputs": [
    {
     "name": "stdin",
     "output_type": "stream",
     "text": [
      "chiều dài = 36.78\n",
      "chieu rộng = 13.52\n"
     ]
    },
    {
     "name": "stdout",
     "output_type": "stream",
     "text": [
      " Diện tích cần tìm là =  353.78\n"
     ]
    }
   ],
   "source": [
    "a = float(input(\"chiều dài =\"))\n",
    "b = float(input(\"chieu rộng =\"))\n",
    "dientich = a * b - 3.14 * ( b / 2 ) ** 2\n",
    "print(\" Diện tích cần tìm là = \",'%.2F' %dientich)\n"
   ]
  },
  {
   "cell_type": "code",
   "execution_count": 18,
   "id": "d3deb64b-cd7d-4a17-ad61-b81eda43f375",
   "metadata": {},
   "outputs": [
    {
     "name": "stdin",
     "output_type": "stream",
     "text": [
      "Nhập một ký tự :  HUYANH\n"
     ]
    },
    {
     "name": "stdout",
     "output_type": "stream",
     "text": [
      "chữ thường tương ứng:  huyanh\n"
     ]
    }
   ],
   "source": [
    "c = input(\"Nhập một ký tự : \")\n",
    "if c.isalpha():\n",
    "    if c.isupper():\n",
    "        print(\"chữ thường tương ứng: \", c.lower())\n",
    "    if c.islower():\n",
    "        print(\"chữ hoa tương ứng : \",c.upper())\n",
    "else:\n",
    "    print(\"Nhập sai ký tự\")"
   ]
  },
  {
   "cell_type": "code",
   "execution_count": 19,
   "id": "7c51bbeb-3363-4139-a42a-524ea076fbb0",
   "metadata": {},
   "outputs": [
    {
     "name": "stdin",
     "output_type": "stream",
     "text": [
      "Nhập một ký tự:  C\n"
     ]
    },
    {
     "name": "stdout",
     "output_type": "stream",
     "text": [
      "{c} là kí tự alphabet\n"
     ]
    }
   ],
   "source": [
    "c = input(\"Nhập một ký tự: \")\n",
    "if c.isalpha():\n",
    "    print(\"{c} là kí tự alphabet\")\n",
    "else:\n",
    "    print(\"{c} không phải là kí tự alphabet\")"
   ]
  },
  {
   "cell_type": "code",
   "execution_count": 12,
   "id": "9ac90eb1-e783-4c42-a57e-51df0c272626",
   "metadata": {},
   "outputs": [
    {
     "name": "stdin",
     "output_type": "stream",
     "text": [
      "cạnh 1 : 2\n",
      "cạnh 2 : 3\n",
      "cạnh 3 : 4\n"
     ]
    },
    {
     "name": "stdout",
     "output_type": "stream",
     "text": [
      "diện tích tam giác là:  2.9\n"
     ]
    }
   ],
   "source": [
    "a = int(input(\"cạnh 1 :\"))\n",
    "b = int(input(\"cạnh 2 :\"))\n",
    "c = int(input(\"cạnh 3 :\"))\n",
    "p = ( a + b + c ) / 2\n",
    "dientichtamgiac = (p*(p-a)*(p-b)*(p-c)) ** 0.5\n",
    "if 0 not in (a,b,c):\n",
    "    print(\"diện tích tam giác là:\",'% .1F' %dientichtamgiac)\n",
    "if 0 in (a,b,c):\n",
    "    print(\"Không phải 3 cạnh của 1 tam giác\")\n",
    "    "
   ]
  },
  {
   "cell_type": "code",
   "execution_count": 14,
   "id": "3cd4ed65-6c62-4b36-954a-e5b107b5a9b7",
   "metadata": {},
   "outputs": [
    {
     "name": "stdin",
     "output_type": "stream",
     "text": [
      "Chuỗi kí tự là: hgsreygounkfywdngkhurh\n"
     ]
    },
    {
     "name": "stdout",
     "output_type": "stream",
     "text": [
      "chữ thứ 5 trong chuỗi này là e\n",
      "chữ thứ 9 trong chuỗi này là u\n"
     ]
    }
   ],
   "source": [
    "a = str(input(\"Chuỗi kí tự là:\"))\n",
    "if len(a) >= 20:\n",
    "    print(\"chữ thứ 5 trong chuỗi này là\",a[4])\n",
    "    print(\"chữ thứ 9 trong chuỗi này là\",a[8])"
   ]
  },
  {
   "cell_type": "code",
   "execution_count": 28,
   "id": "0358b3f1-1e02-4527-b551-3febaebb824f",
   "metadata": {},
   "outputs": [
    {
     "name": "stdin",
     "output_type": "stream",
     "text": [
      "Họ và tên : Pham Xuan Toai\n",
      "chỉ số tháng trước : 1020\n",
      "chỉ số tháng này : 1070\n"
     ]
    },
    {
     "name": "stdout",
     "output_type": "stream",
     "text": [
      "tiền phải trả là : 107136\n"
     ]
    }
   ],
   "source": [
    "a = input(\"Họ và tên :\")\n",
    "b = int(input(\"chỉ số tháng trước :\"))\n",
    "d = int(input(\"chỉ số tháng này :\"))\n",
    "c = d - b\n",
    "if 0 < c <= 50:\n",
    "    t = 1984*c\n",
    "elif 51 <= c <= 100:\n",
    "    t = 1984*50+2050*(c-50)\n",
    "elif 101 <= c <= 200:\n",
    "    t = 1984*50+2050*50+2380*(c-100)\n",
    "elif 201 <= c <= 300:\n",
    "    t = 1984*50+2050*50+2380*100+2998*(c-200)\n",
    "elif 301 <= c <= 400:\n",
    "    t = 1984*50+2050*50+2380*100+2998*100+3350*(c-300)\n",
    "elif c >= 401:\n",
    "    t = 1984*50+2050*50+2380*100+2998*100+3350*100+3460*(c-400)\n",
    "tien = t * 1.08\n",
    "print(\"tiền phải trả là :\", round(tien))"
   ]
  },
  {
   "cell_type": "code",
   "execution_count": 3,
   "id": "d82dd253-47cc-4526-8134-ad861f57411f",
   "metadata": {},
   "outputs": [
    {
     "name": "stdin",
     "output_type": "stream",
     "text": [
      " số n : 2\n"
     ]
    },
    {
     "name": "stdout",
     "output_type": "stream",
     "text": [
      " số gấp đôi số n: 4\n"
     ]
    }
   ],
   "source": [
    "a = int(input(\" số n :\"))\n",
    "print(\" số gấp đôi số n:\", 2*a)"
   ]
  },
  {
   "cell_type": "code",
   "execution_count": 5,
   "id": "bad9a595-0709-44e4-9045-9b23ef082778",
   "metadata": {},
   "outputs": [
    {
     "name": "stdin",
     "output_type": "stream",
     "text": [
      "Nhập chữ cái hoa : H\n"
     ]
    },
    {
     "name": "stdout",
     "output_type": "stream",
     "text": [
      "chữ liền trước của h là g\n"
     ]
    }
   ],
   "source": [
    "a = input(\"Nhập chữ cái hoa :\")\n",
    "if a == \"A\":\n",
    "    print(\"đây là A ,ko có chữ cái liền trước\")\n",
    "elif 'B' <= a <= 'Z':\n",
    "    lowercase = a.lower()\n",
    "    previous = chr(ord(lowercase) - 1)\n",
    "    print(f\"chữ liền trước của {lowercase} là {previous}\")\n",
    "else:\n",
    "    print(\"không phải chữ hoa\")\n",
    "          "
   ]
  },
  {
   "cell_type": "code",
   "execution_count": null,
   "id": "125903fb-7d42-46fd-88fc-a35e0aeff593",
   "metadata": {},
   "outputs": [],
   "source": []
  }
 ],
 "metadata": {
  "kernelspec": {
   "display_name": "Python 3 (ipykernel)",
   "language": "python",
   "name": "python3"
  },
  "language_info": {
   "codemirror_mode": {
    "name": "ipython",
    "version": 3
   },
   "file_extension": ".py",
   "mimetype": "text/x-python",
   "name": "python",
   "nbconvert_exporter": "python",
   "pygments_lexer": "ipython3",
   "version": "3.13.7"
  }
 },
 "nbformat": 4,
 "nbformat_minor": 5
}
