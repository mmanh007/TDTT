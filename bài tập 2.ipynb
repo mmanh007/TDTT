{
 "cells": [
  {
   "cell_type": "code",
   "execution_count": null,
   "id": "01a4cac2",
   "metadata": {},
   "outputs": [],
   "source": [
    "a = int(input(\"độ dài cạnh 1 là :\"))\n",
    "b = int(input(\"độ dài cạnh 2 là :\"))\n",
    "dientich = a*b\n",
    "chuvi = (a+b)*2\n",
    "print(f\"diện tích là {dientich}\",f\"chu vi là {chuvi}\")"
   ]
  },
  {
   "cell_type": "code",
   "execution_count": null,
   "id": "d7b6f31e",
   "metadata": {},
   "outputs": [],
   "source": [
    "a = float(input(\"bán kính của hình tròn là:\"))\n",
    "dientich = 3.14*(a**2)\n",
    "chuvi = 2*3.14*a\n",
    "print(f\"diện tích của hình tròn là {dientich}\")\n",
    "print(f\"chu vi hình tròn là: {chuvi}\")"
   ]
  },
  {
   "cell_type": "code",
   "execution_count": null,
   "id": "22c3f5c8",
   "metadata": {},
   "outputs": [],
   "source": [
    "a, b, c = map(float, input(\"Nhập 3 cạnh (cách nhau bằng dấu cách): \").split())\n",
    "\n",
    "if a <= 0 or b <= 0 or c <= 0 and ( a + b <= c or a + c <= b or b + c <= a):\n",
    "    print(\"Khong la ba canh cua mot tam giac\")\n",
    "else:\n",
    "    if a == b == c:\n",
    "        loai = \"Tam giác đều\"\n",
    "    elif a == b or b == c or a == c:\n",
    "        loai = \"Tam giác cân\"\n",
    "    elif a*a + b*b == c*c or a*a + c*c == b*b or b*b + c*c == a*a:\n",
    "        loai = \"Tam giác vuông\"\n",
    "    else:\n",
    "        loai = \"Tam giác thường\"\n",
    "\n",
    "    P = a + b + c\n",
    "    p = P / 2\n",
    "    S = (p*(p-a)*(p-b)*(p-c))**0.5\n",
    "\n",
    "    print(loai)\n",
    "    print(\"Chu vi =\", P)\n",
    "    print(\"Diện tích =\", S)\n"
   ]
  },
  {
   "cell_type": "code",
   "execution_count": null,
   "id": "02d6973f",
   "metadata": {},
   "outputs": [],
   "source": [
    "a,b = map(float,input(\"nhập a và b:\").split())\n",
    "if a == 0:\n",
    "    if b != 0:\n",
    "        print(\"vô lý=>pt vô nghiệm\")\n",
    "    else:\n",
    "        print(\"hệ vô số nghiệm\")\n",
    "else:\n",
    "    x = -b/a\n",
    "    print(f\"nghiệm của phương trình là x = {x}\")"
   ]
  },
  {
   "cell_type": "code",
   "execution_count": null,
   "id": "dbd22b84",
   "metadata": {},
   "outputs": [],
   "source": [
    "import math\n",
    "a,b,c=map(float,input(\"a,b,c bạn nhập lần lượt là:\").split())\n",
    "if a == 0:\n",
    "    if b ==0:\n",
    "        if c == 0:\n",
    "            print(\"vì a,b,c = 0\")\n",
    "            print(\"=> hệ vô số nghiệm\")\n",
    "        else:\n",
    "            print(\"vì a,b = 0 nhưng c khác 0\")\n",
    "            print(\"=> hệ vô nghiệm\")\n",
    "    else:\n",
    "        x = -c/b\n",
    "        print(\"vì a = 0\")\n",
    "        print(f\"=> phương trình có nghiệm duy nhất x ={x}\")\n",
    "else:\n",
    "    delta = b*b-4*a*c\n",
    "    if delta < 0:\n",
    "        print(f\"vì delta = {delta} < 0\")\n",
    "        print(\"=> phương trình vô nghiệm\")\n",
    "    elif delta == 0:\n",
    "        x = -b/(2*a)\n",
    "        print(f\"vì delta = {delta} = 0\")\n",
    "        print(f\"=> phương trình có nghiệm kép x = {x}\")\n",
    "    else:\n",
    "        x1 = (b + math.sqrt(delta))/(2*a)\n",
    "        x2 = (b - math.sqrt(delta))/(2*a)\n",
    "        print(f\"vì delta = {delta} > 0\")\n",
    "        print(\"=> phương trình có hai nghiệm phân biệt\")\n",
    "        print(f\"x1 = {x1}\")\n",
    "        print(f\"x2 = {x2}\")\n"
   ]
  },
  {
   "cell_type": "code",
   "execution_count": null,
   "id": "62721ba9",
   "metadata": {},
   "outputs": [],
   "source": [
    "a,b,c,d = map(float,input(\"bốn số bạn nhập lần lượt là\").split())\n",
    "max = a\n",
    "if b > max:\n",
    "    max = b\n",
    "if c > max:\n",
    "    max = c\n",
    "if d > max:\n",
    "    max = d\n",
    "print(f\"số lớn nhất trong 4 số a,b,c,d là {max}\")"
   ]
  },
  {
   "cell_type": "code",
   "execution_count": null,
   "id": "f4657ed6",
   "metadata": {},
   "outputs": [],
   "source": [
    "a,b,c,d = map(float,input(\"bốn số bạn nhập lần lượt là\").split())\n",
    "min = a\n",
    "if b < min:\n",
    "    min = b\n",
    "if c < min:\n",
    "    min = c\n",
    "if d < min:\n",
    "    min = d\n",
    "print(f\"số nhỏ nhất trong 4 số a,b,c,d là: {min}\")"
   ]
  },
  {
   "cell_type": "code",
   "execution_count": null,
   "id": "e1624316",
   "metadata": {},
   "outputs": [],
   "source": [
    "a1,b1,c1 = map(float,input(\"Nhập lần lượt hệ số của phương trình thứ nhất :\").split())\n",
    "a2,b2,c2 = map(float,input(\"Nhập lần lượt hệ số của phương trình thứ hai :\").split())\n",
    "dinhthuc = a1*b2 - a2*b1\n",
    "if dinhthuc == 0:\n",
    "    if a1*b2 == a2*b1 and a1*c2 == a2*c1 and b1*c2 == b2*c1:\n",
    "        print(\"hệ có vô số nghiệm \")\n",
    "    else:\n",
    "        print(\"hệ vô nghiệm\")\n",
    "else:\n",
    "    x1=(c1*b2 - c2*b1) / dinhthuc\n",
    "    x2=(a1*c2 - a2*c1) / dinhthuc\n",
    "    print(f\"\"\"Hệ có nghiệm duy nhất là:\n",
    "    x1 = {x1:.2f}\n",
    "    x2 = {x2:.2f}\"\"\")"
   ]
  },
  {
   "cell_type": "code",
   "execution_count": null,
   "id": "e9b990fe",
   "metadata": {},
   "outputs": [],
   "source": [
    "x=float(input(\"thời giân 1 công việc là:\"))\n",
    "a = x / 3600\n",
    "b = x / 60\n",
    "c = x\n",
    "print(f\"thời gian công việc là: {a:.2f} giờ, hoặc {b:.2f} phút, hoặc {c} giây\")"
   ]
  },
  {
   "cell_type": "code",
   "execution_count": null,
   "id": "c6497556",
   "metadata": {},
   "outputs": [],
   "source": [
    "a = float(input(\"Nhập hoành độ tâm (a): \"))\n",
    "b = float(input(\"Nhập tung độ tâm (b): \"))\n",
    "R = float(input(\"Nhập bán kính R: \"))\n",
    "x = float(input(\"Nhập hoành độ điểm A (x): \"))\n",
    "y = float(input(\"Nhập tung độ điểm A (y): \"))\n",
    "if (x - a)**2 + (y - b)**2 == R**2:\n",
    "    print(\"Điểm A thuộc đường tròn.\")\n",
    "else:\n",
    "    print(\"Điểm A không thuộc đường tròn.\")\n",
    "\n"
   ]
  },
  {
   "cell_type": "code",
   "execution_count": null,
   "id": "c82c6a09",
   "metadata": {},
   "outputs": [],
   "source": [
    "import math\n",
    "a = float(input(\"Nhập hoành độ tâm: \"))\n",
    "b = float(input(\"Nhập tung độ tâm: \"))\n",
    "R = float(input(\"Nhập bán kính: \"))\n",
    "x = float(input(\"Nhập x của điểm A: \"))\n",
    "y = float(input(\"Nhập y của điểm A: \"))\n",
    "d = math.sqrt((x - a)**2 + (y - b)**2)\n",
    "epsilon = 1e-6\n",
    "if abs(d - R) < epsilon:\n",
    "    print(\"Điểm A nằm trên đường tròn\")\n",
    "elif d < R:\n",
    "    print(\"Điểm A nằm trong đường tròn\")\n",
    "else:\n",
    "    print(\"Điểm A nằm ngoài đường tròn\")\n"
   ]
  },
  {
   "cell_type": "code",
   "execution_count": null,
   "id": "731b0489",
   "metadata": {},
   "outputs": [],
   "source": [
    "a = float(input(\"Nhập hoành độ tâm: \"))\n",
    "b = float(input(\"Nhập tung độ tâm: \"))\n",
    "R = float(input(\"Nhập bán kính: \"))\n",
    "x = float(input(\"Nhập x của điểm A: \"))\n",
    "y = float(input(\"Nhập y của điểm A: \"))\n",
    "d2 = (x - a)**2 + (y - b)**2\n",
    "R_binh = R**2\n",
    "epsilon = 1e-6\n",
    "\n",
    "if abs(d2 - R_binh) < epsilon:\n",
    "    print(\"Điểm A nằm trên đường tròn\")\n",
    "elif d2 < R_binh:\n",
    "    print(\"Điểm A nằm trong đường tròn\")\n",
    "else:\n",
    "    print(\"Điểm A nằm ngoài đường tròn\")"
   ]
  },
  {
   "cell_type": "code",
   "execution_count": null,
   "id": "cf63ed62",
   "metadata": {},
   "outputs": [],
   "source": [
    "x = float(input(\"Nhập x: \"))\n",
    "y = float(input(\"Nhập y: \"))\n",
    "if x < 0 and not y.is_integer():\n",
    "    print(\"Lỗi: không thể tính x^y với x âm và y không phải số nguyên.\")\n",
    "else:\n",
    "    ketqua = x ** y \n",
    "    print(f\"{x}^{y} = {ketqua}\")\n"
   ]
  },
  {
   "cell_type": "code",
   "execution_count": null,
   "id": "d6fed18a",
   "metadata": {},
   "outputs": [],
   "source": [
    "x = float(input(\"Nhập x: \"))\n",
    "y = float(input(\"Nhập y: \"))\n",
    "try:\n",
    "    result = x ** y  \n",
    "    print(f\"{x}^{y} = {result}\")\n",
    "except ValueError:\n",
    "    print(\"Lỗi: không thể tính x^y với x âm và y không phải số nguyên.\")\n"
   ]
  }
 ],
 "metadata": {
  "kernelspec": {
   "display_name": "Python 3",
   "language": "python",
   "name": "python3"
  },
  "language_info": {
   "name": "python",
   "version": "3.13.7"
  }
 },
 "nbformat": 4,
 "nbformat_minor": 5
}
