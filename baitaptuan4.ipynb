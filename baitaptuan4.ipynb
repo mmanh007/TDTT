{
 "cells": [
  {
   "cell_type": "code",
   "execution_count": 72,
   "id": "6c3f9203",
   "metadata": {},
   "outputs": [
    {
     "name": "stdout",
     "output_type": "stream",
     "text": [
      "Tổng từ 1 đến 6 là: 21\n"
     ]
    }
   ],
   "source": [
    "n = int(input(\"Nhập n (n <= 1000): \"))\n",
    "\n",
    "if n > 1000 or n < 1:\n",
    "    print(\"Giá trị n không hợp lệ! Vui lòng nhập số từ 1 đến 1000.\")\n",
    "else:\n",
    "    tong = 0\n",
    "    i = 1\n",
    "    while i <= n:\n",
    "        tong += i\n",
    "        i += 1\n",
    "    print(\"Tổng từ 1 đến\", n, \"là:\", tong)\n"
   ]
  },
  {
   "cell_type": "code",
   "execution_count": null,
   "id": "f507fab7",
   "metadata": {},
   "outputs": [],
   "source": [
    "bài 2"
   ]
  },
  {
   "cell_type": "code",
   "execution_count": 12,
   "id": "f0208b17",
   "metadata": {},
   "outputs": [
    {
     "name": "stdout",
     "output_type": "stream",
     "text": [
      "Số bạn nhập là âm. Vui lòng nhập lại số dương!\n",
      "78 là số dương nhưng không phải số nguyên tố\n"
     ]
    }
   ],
   "source": [
    "while True:\n",
    "    n = int(input(\"Nhập n: \"))\n",
    "    \n",
    "    if n > 0:\n",
    "        if n == 1:\n",
    "            print(\"1 là số dương nhưng không phải số nguyên tố\")\n",
    "        else:\n",
    "            for i in range(2, n):\n",
    "                if n % i == 0:\n",
    "                    print(n, \"là số dương nhưng không phải số nguyên tố\")\n",
    "                    break\n",
    "            else:\n",
    "                print(n, \"là số dương và là số nguyên tố\")\n",
    "        break\n",
    "    else:\n",
    "        print(\"Số bạn nhập là âm. Vui lòng nhập lại số dương!\")\n",
    "    \n"
   ]
  },
  {
   "cell_type": "code",
   "execution_count": null,
   "id": "dd308944",
   "metadata": {},
   "outputs": [],
   "source": [
    "bài 3"
   ]
  },
  {
   "cell_type": "code",
   "execution_count": 14,
   "id": "721bf928",
   "metadata": {},
   "outputs": [
    {
     "name": "stdout",
     "output_type": "stream",
     "text": [
      "giai thừa của 7 là: 5040 \n"
     ]
    }
   ],
   "source": [
    "n = int(input(\"Nhập n : \"))\n",
    "giai_thua = 1\n",
    "for i in range(1,n+1):\n",
    "    giai_thua *= i\n",
    "print(f\"giai thừa của {n} là: {giai_thua} \")"
   ]
  },
  {
   "cell_type": "code",
   "execution_count": 17,
   "id": "d20d0b7d",
   "metadata": {},
   "outputs": [
    {
     "name": "stdout",
     "output_type": "stream",
     "text": [
      "Giai thừa của 8 là : 40320\n"
     ]
    }
   ],
   "source": [
    "import math\n",
    "n = int(input(\"nhập n:\"))\n",
    "print(f\"Giai thừa của {n} là :\" ,math.factorial(n))"
   ]
  },
  {
   "cell_type": "code",
   "execution_count": null,
   "id": "3f136552",
   "metadata": {},
   "outputs": [],
   "source": [
    "bài 4"
   ]
  },
  {
   "cell_type": "code",
   "execution_count": null,
   "id": "cbe513c5",
   "metadata": {},
   "outputs": [
    {
     "name": "stdout",
     "output_type": "stream",
     "text": [
      "số chữ số của 789 là 3\n"
     ]
    }
   ],
   "source": [
    "n = int(input(\"nhập n:\"))\n",
    "a = n\n",
    "dem = 0\n",
    "while n != 0:\n",
    "    dem += 1\n",
    "    n //= 10\n",
    "print(f\"số chữ số của {a} là {dem}\")"
   ]
  },
  {
   "cell_type": "code",
   "execution_count": null,
   "id": "aa833b94",
   "metadata": {},
   "outputs": [],
   "source": [
    "bài 5"
   ]
  },
  {
   "cell_type": "code",
   "execution_count": 25,
   "id": "37f11a86",
   "metadata": {},
   "outputs": [
    {
     "name": "stdout",
     "output_type": "stream",
     "text": [
      "Bạn nhập chưa đủ số phần tử!\n"
     ]
    }
   ],
   "source": [
    "n = int(input(\"nhập n:\"))\n",
    "if n > 0:\n",
    "    day_so = list(map(int,input(\"nhập dãy số \").split()))\n",
    "    if len(day_so) != n:\n",
    "        print(\"Bạn nhập chưa đủ số phần tử!\")\n",
    "    elif 42 in day_so:\n",
    "        print(\"I've found the meaning of life!\")\n",
    "    elif 42 not in day_so:\n",
    "        print(\"It's a joke!\")"
   ]
  },
  {
   "cell_type": "code",
   "execution_count": null,
   "id": "39ddd4da",
   "metadata": {},
   "outputs": [],
   "source": [
    "bài 6"
   ]
  },
  {
   "cell_type": "code",
   "execution_count": 34,
   "id": "b775465a",
   "metadata": {},
   "outputs": [
    {
     "name": "stdout",
     "output_type": "stream",
     "text": [
      "Tổng các số nguyên tố trong đoạn [2,9] là: 17\n"
     ]
    }
   ],
   "source": [
    "a,b = map(int,input(\"nhập a và b:\").split())\n",
    "tong = 0\n",
    "for i in range(a,b+1):\n",
    "    if i ==1:\n",
    "        continue\n",
    "    if i > 1:\n",
    "        for j in range(2,i):\n",
    "            if i % j == 0:\n",
    "                break\n",
    "        else:\n",
    "            tong += i\n",
    "                \n",
    "print(f\"Tổng các số nguyên tố trong đoạn [{a},{b}] là: {tong}\")\n",
    "\n"
   ]
  },
  {
   "cell_type": "code",
   "execution_count": null,
   "id": "8d0fc1ec",
   "metadata": {},
   "outputs": [],
   "source": [
    "bài 7"
   ]
  },
  {
   "cell_type": "code",
   "execution_count": null,
   "id": "337ec498",
   "metadata": {},
   "outputs": [
    {
     "name": "stdout",
     "output_type": "stream",
     "text": [
      "ước số nguyên tố lớn nhất là:  13\n"
     ]
    }
   ],
   "source": [
    "n = int(input(\"nhập n: \"))\n",
    "a = []\n",
    "b = []\n",
    "for i in range(1,n+1):\n",
    "    if n % i == 0:\n",
    "        a.append(i)\n",
    "for j in a:\n",
    "    for x in range(2,j):\n",
    "        if j % x == 0:\n",
    "                break\n",
    "    else:\n",
    "        b.append(j)\n",
    "print(\"ước số nguyên tố lớn nhất là: \", max(b))\n"
   ]
  },
  {
   "cell_type": "code",
   "execution_count": null,
   "id": "6d2e46b7",
   "metadata": {},
   "outputs": [],
   "source": [
    "bài 8 "
   ]
  },
  {
   "cell_type": "code",
   "execution_count": 39,
   "id": "d5689d4a",
   "metadata": {},
   "outputs": [
    {
     "name": "stdout",
     "output_type": "stream",
     "text": [
      " số bước là:  4\n",
      "giá trị palindrome thu được là;  66066\n"
     ]
    }
   ],
   "source": [
    "n = int(input(\"nhập n :\"))\n",
    "step = 0\n",
    "while str(n) != str(n)[::-1]:\n",
    "    n += int(str(n)[::-1])\n",
    "    step += 1\n",
    "print(\" số bước là: \", step)\n",
    "print(\"giá trị palindrome thu được là; \",n)\n"
   ]
  },
  {
   "cell_type": "code",
   "execution_count": null,
   "id": "ad6663c2",
   "metadata": {},
   "outputs": [],
   "source": [
    "bài 9"
   ]
  },
  {
   "cell_type": "code",
   "execution_count": null,
   "id": "b726554b",
   "metadata": {},
   "outputs": [
    {
     "name": "stdout",
     "output_type": "stream",
     "text": [
      "no number\n"
     ]
    }
   ],
   "source": [
    "n = int(input(\"Nhập n\"))\n",
    "b = []\n",
    "if n > 0:\n",
    "    for i in range(1,int((n) ** 0.5) + 1):\n",
    "        a = i ** 2\n",
    "    if a <= n and len(set(str(a))) == len(str(a)):\n",
    "        b.append(a)\n",
    "    if b:\n",
    "        print(f\"những số chính phương nhỏ hơn hoặc bằng {n} là :\",*b)\n",
    "else:\n",
    "    print(\"no number\")\n",
    "        \n"
   ]
  },
  {
   "cell_type": "code",
   "execution_count": null,
   "id": "e4add887",
   "metadata": {},
   "outputs": [],
   "source": [
    "em không biết làm bài 10"
   ]
  },
  {
   "cell_type": "code",
   "execution_count": null,
   "id": "aa96f58d",
   "metadata": {},
   "outputs": [],
   "source": [
    "bài 11"
   ]
  },
  {
   "cell_type": "code",
   "execution_count": null,
   "id": "194afebf",
   "metadata": {},
   "outputs": [
    {
     "name": "stdout",
     "output_type": "stream",
     "text": [
      "số lượng ước số chẵn của số nguyên dương 678 là: 4\n"
     ]
    }
   ],
   "source": [
    "n= int(input(\"nhập số n :\"))\n",
    "dem = 0\n",
    "if n < 10 ** 6:\n",
    "    for i in range(1,n+1):\n",
    "        if n % i == 0:\n",
    "            if i % 2 ==0:\n",
    "                dem += 1\n",
    "    print(f\"số lượng ước số chẵn của số nguyên dương {n} là: {dem}\")\n",
    "else:\n",
    "    print(\"Số của bạn to hơn 10^6.Vui lòng nhập lại \")\n"
   ]
  },
  {
   "cell_type": "code",
   "execution_count": null,
   "id": "7842e559",
   "metadata": {},
   "outputs": [],
   "source": [
    "bài 12"
   ]
  },
  {
   "cell_type": "code",
   "execution_count": 70,
   "id": "9febce3e",
   "metadata": {},
   "outputs": [
    {
     "name": "stdout",
     "output_type": "stream",
     "text": [
      "số tiền sau 6 tháng là: 1042742\n"
     ]
    }
   ],
   "source": [
    "X = int(input(\"số tiền gửi vào ban đầu :\"))\n",
    "N = int(input(\"gửi số tháng là: \"))\n",
    "for i in range(1,N+1):\n",
    "    X = X * 1.007\n",
    "print(f\"số tiền sau {N} tháng là:\",round(X))"
   ]
  },
  {
   "cell_type": "code",
   "execution_count": null,
   "id": "df4e023e",
   "metadata": {},
   "outputs": [],
   "source": [
    "bài 13"
   ]
  },
  {
   "cell_type": "code",
   "execution_count": 71,
   "id": "5631800c",
   "metadata": {},
   "outputs": [
    {
     "name": "stdout",
     "output_type": "stream",
     "text": [
      "true\n"
     ]
    }
   ],
   "source": [
    "a = int(input(\"Nhập số a: \"))\n",
    "b = int(input(\"Nhập số b: \"))\n",
    "tong_a = 0\n",
    "for i in range(1, a):\n",
    "    if a % i == 0:\n",
    "        tong_a += i\n",
    "tong_b = 0\n",
    "for j in range(1, b):\n",
    "    if b % j == 0:\n",
    "        tong_b += j\n",
    "if tong_a == b and tong_b == a:\n",
    "    print(\"true\")\n",
    "else:\n",
    "    print(\"false\")\n"
   ]
  },
  {
   "cell_type": "code",
   "execution_count": null,
   "id": "6c1448d2",
   "metadata": {},
   "outputs": [],
   "source": [
    "bài 14"
   ]
  },
  {
   "cell_type": "code",
   "execution_count": null,
   "id": "ba399d98",
   "metadata": {},
   "outputs": [
    {
     "name": "stdout",
     "output_type": "stream",
     "text": [
      "ước chung lớn nhất của 300 và 1500 là : 150\n"
     ]
    }
   ],
   "source": [
    "m = int(input(\"nhập m:\"))\n",
    "n = int(input(\"nhập n:\"))\n",
    "ucln=1\n",
    "if m > 0 and n > 0:\n",
    "    for i in range(1,min(m,n)+1):\n",
    "        if m%i==0 and n%i==0:\n",
    "            ucln=i\n",
    "    print(f\"ước chung lớn nhất của {m} và {n} là : {ucln}\")\n",
    "else:\n",
    "    print(\"1 trong 2 số bạn nhập là số âm .Vui lòng nhập lại số\")\n",
    "\n"
   ]
  },
  {
   "cell_type": "code",
   "execution_count": null,
   "id": "dc1b9998",
   "metadata": {},
   "outputs": [],
   "source": [
    "bài 15"
   ]
  },
  {
   "cell_type": "code",
   "execution_count": 77,
   "id": "3a5bc4cc",
   "metadata": {},
   "outputs": [
    {
     "name": "stdout",
     "output_type": "stream",
     "text": [
      "Số gà: 22, Số chó: 14\n"
     ]
    }
   ],
   "source": [
    "tong_con = int(input(\"Nhập tổng số con: \"))\n",
    "tong_chan = int(input(\"Nhập tổng số chân: \"))\n",
    "for ga in range(tong_con + 1):\n",
    "    cho = tong_con - ga\n",
    "    if 2 * ga + 4 * cho == tong_chan:\n",
    "        print(f\"Số gà: {ga}, Số chó: {cho}\")\n",
    "        break\n",
    "else:\n",
    "    print(\"invalid\")\n"
   ]
  }
 ],
 "metadata": {
  "kernelspec": {
   "display_name": "Python 3",
   "language": "python",
   "name": "python3"
  },
  "language_info": {
   "codemirror_mode": {
    "name": "ipython",
    "version": 3
   },
   "file_extension": ".py",
   "mimetype": "text/x-python",
   "name": "python",
   "nbconvert_exporter": "python",
   "pygments_lexer": "ipython3",
   "version": "3.13.8"
  }
 },
 "nbformat": 4,
 "nbformat_minor": 5
}
