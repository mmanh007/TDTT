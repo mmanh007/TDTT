{
 "cells": [
  {
   "cell_type": "code",
   "execution_count": null,
   "id": "ed09e4f9",
   "metadata": {},
   "outputs": [],
   "source": [
    "a = float(input(\"chiều dài =\"))\n",
    "b = float(input(\"chieu rộng =\"))\n",
    "dientich = a * b - 3.14 * ( b / 2 ) ** 2\n",
    "print(\" Diện tích cần tìm là = \",'%.2F' %dientich)\n"
   ]
  },
  {
   "cell_type": "code",
   "execution_count": null,
   "id": "72c0a34b",
   "metadata": {},
   "outputs": [],
   "source": [
    "c = input(\"Nhập một ký tự : \")\n",
    "if c.isalpha():\n",
    "    if c.isupper():\n",
    "        print(\"chữ thường tương ứng: \", c.lower())\n",
    "    if c.islower():\n",
    "        print(\"chữ hoa tương ứng : \",c.upper())\n",
    "else:\n",
    "    print(\"Nhập sai ký tự\")"
   ]
  },
  {
   "cell_type": "code",
   "execution_count": null,
   "id": "baf841c5",
   "metadata": {},
   "outputs": [],
   "source": [
    "c = input(\"Nhập một ký tự: \")\n",
    "if c.isalpha():\n",
    "    print(\"{c} là kí tự alphabet\")\n",
    "else:\n",
    "    print(\"{c} không phải là kí tự alphabet\")"
   ]
  },
  {
   "cell_type": "code",
   "execution_count": null,
   "id": "e11b0f89",
   "metadata": {},
   "outputs": [],
   "source": [
    "a = int(input(\"cạnh 1 :\"))\n",
    "b = int(input(\"cạnh 2 :\"))\n",
    "c = int(input(\"cạnh 3 :\"))\n",
    "p = ( a + b + c ) / 2\n",
    "dientichtamgiac = (p*(p-a)*(p-b)*(p-c)) ** 0.5\n",
    "if 0 not in (a,b,c):\n",
    "    print(\"diện tích tam giác là:\",'% .1F' %dientichtamgiac)\n",
    "if 0 in (a,b,c):\n",
    "    print(\"Không phải 3 cạnh của 1 tam giác\")\n",
    "    "
   ]
  },
  {
   "cell_type": "code",
   "execution_count": null,
   "id": "53f5e8a7",
   "metadata": {},
   "outputs": [],
   "source": [
    "a = str(input(\"Chuỗi kí tự là:\"))\n",
    "if len(a) >= 20:\n",
    "    print(\"chữ thứ 5 trong chuỗi này là\",a[4])\n",
    "    print(\"chữ thứ 9 trong chuỗi này là\",a[8])"
   ]
  },
  {
   "cell_type": "code",
   "execution_count": null,
   "id": "ef9943be",
   "metadata": {},
   "outputs": [],
   "source": [
    "\n",
    "a = input(\"Họ và tên :\")\n",
    "b = int(input(\"chỉ số tháng trước :\"))\n",
    "d = int(input(\"chỉ số tháng này :\"))\n",
    "c = d - b\n",
    "if 0 < c <= 50:\n",
    "    t = 1984*c\n",
    "elif 51 <= c <= 100:\n",
    "    t = 1984*50+2050*(c-50)\n",
    "elif 101 <= c <= 200:\n",
    "    t = 1984*50+2050*50+2380*(c-100)\n",
    "elif 201 <= c <= 300:\n",
    "    t = 1984*50+2050*50+2380*100+2998*(c-200)\n",
    "elif 301 <= c <= 400:\n",
    "    t = 1984*50+2050*50+2380*100+2998*100+3350*(c-300)\n",
    "elif c >= 401:\n",
    "    t = 1984*50+2050*50+2380*100+2998*100+3350*100+3460*(c-400)\n",
    "tien = t * 1.08\n",
    "print(\"tiền phải trả là :\", round(tien))"
   ]
  },
  {
   "cell_type": "code",
   "execution_count": null,
   "id": "8471c4e8",
   "metadata": {},
   "outputs": [],
   "source": [
    "a = int(input(\" số n :\"))\n",
    "print(\" số gấp đôi số n:\", 2*a)"
   ]
  },
  {
   "cell_type": "code",
   "execution_count": null,
   "id": "9316b48e",
   "metadata": {},
   "outputs": [],
   "source": [
    "a = input(\"Nhập chữ cái hoa :\")\n",
    "if a == \"A\":\n",
    "    print(\"đây là A ,ko có chữ cái liền trước\")\n",
    "elif 'B' <= a <= 'Z':\n",
    "    lowercase = a.lower()\n",
    "    previous = chr(ord(lowercase) - 1)\n",
    "    print(f\"chữ liền trước của {lowercase} là {previous}\")\n",
    "else:\n",
    "    print(\"không phải chữ hoa\")\n",
    "          "
   ]
  }
 ],
 "metadata": {
  "kernelspec": {
   "display_name": "Python 3",
   "language": "python",
   "name": "python3"
  },
  "language_info": {
   "name": "python",
   "version": "3.13.7"
  }
 },
 "nbformat": 4,
 "nbformat_minor": 5
}
